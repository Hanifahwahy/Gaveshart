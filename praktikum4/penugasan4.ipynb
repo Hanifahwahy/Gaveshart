{
 "cells": [
  {
   "cell_type": "markdown",
   "metadata": {},
   "source": [
    "### TUGAS 1 ###"
   ]
  },
  {
   "cell_type": "code",
   "execution_count": 5,
   "metadata": {},
   "outputs": [
    {
     "name": "stdout",
     "output_type": "stream",
     "text": [
      "Bunga: Anggrek, Warna: Putih, Nama Latin: Orchidaceae\n",
      "Bunga: Tulip, Warna: Ungu, Nama Latin: Tulipa gesneriana\n",
      "Bunga: Matahari, Warna: Kuning, Nama Latin: Helianthus annuus\n"
     ]
    }
   ],
   "source": [
    "class Bunga:\n",
    "    def __init__(self, nama, warna, latin):\n",
    "        self.nama = nama\n",
    "        self.warna = warna\n",
    "        self.latin = latin\n",
    "\n",
    "    def info(self):\n",
    "        return (f\"Bunga: {self.nama}, Warna: {self.warna}, Nama Latin: {self.latin}\")\n",
    "\n",
    "bunga1 = Bunga(\"Anggrek\", \"Putih\", \"Orchidaceae\")\n",
    "bunga2 = Bunga(\"Tulip\", \"Ungu\", \"Tulipa gesneriana\")\n",
    "bunga3 = Bunga(\"Matahari\", \"Kuning\", \"Helianthus annuus\")\n",
    "\n",
    "print(bunga1.info())\n",
    "print(bunga2.info())\n",
    "print(bunga3.info())\n"
   ]
  },
  {
   "cell_type": "markdown",
   "metadata": {},
   "source": [
    "### TUGAS 2 ###"
   ]
  },
  {
   "cell_type": "code",
   "execution_count": 28,
   "metadata": {},
   "outputs": [
    {
     "name": "stdout",
     "output_type": "stream",
     "text": [
      "Nama: Candi Arjuna, Kota: Dieng, Agama: Hindu, Kerajaan: Mataram Kuno\n",
      "Nama: Candi Borobudur, Kota: Yogyakarta, Agama: Buddha, Raja: Raja Samaratungga\n"
     ]
    }
   ],
   "source": [
    "class Candi:\n",
    "    def __init__(self, nama, kota):\n",
    "        self.nama = nama\n",
    "        self.kota = kota\n",
    "\n",
    "    def info(self):\n",
    "        return f\"Nama: {self.nama}, Kota: {self.kota}\"\n",
    "\n",
    "class Hindu(Candi):\n",
    "    def __init__(self, nama, kota, hindu, kerajaan):\n",
    "        Candi.__init__(self, nama, kota)\n",
    "        self.hindu = hindu\n",
    "        self.kerajaan = kerajaan\n",
    "\n",
    "    def info(self):\n",
    "        candi_hindu = Candi.info(self)\n",
    "        return f\"{candi_hindu}, Agama: {self.hindu}, Kerajaan: {self.kerajaan}\"\n",
    "\n",
    "class Buddha(Candi):\n",
    "    def __init__(self, nama, kota, agama, raja):\n",
    "        Candi.__init__(self, nama, kota)\n",
    "        self.agama = agama \n",
    "        self.raja = raja\n",
    "\n",
    "    def info(self):\n",
    "        candi_buddha = Candi.info(self)\n",
    "        return f\"{candi_buddha}, Agama: {self.agama}, Raja: {self.raja}\"\n",
    "\n",
    "candi1 = Hindu(\"Candi Arjuna\", \"Dieng\", \"Hindu\", \"Mataram Kuno\")\n",
    "candi2 = Buddha(\"Candi Borobudur\", \"Yogyakarta\", \"Buddha\", \"Raja Samaratungga\")\n",
    "\n",
    "print(candi1.info())\n",
    "print(candi2.info())\n"
   ]
  },
  {
   "cell_type": "markdown",
   "metadata": {},
   "source": [
    "### Tugas 3 ###"
   ]
  },
  {
   "cell_type": "code",
   "execution_count": 26,
   "metadata": {},
   "outputs": [
    {
     "name": "stdout",
     "output_type": "stream",
     "text": [
      "The seating capacity of Rosalia Indah is 50 passengers.\n",
      "The max speed of Rosalia Indah is 120 km/h with a travel distance of 160 km.\n"
     ]
    }
   ],
   "source": [
    "class Vehicle:\n",
    "    def __init__(self, name, max_speed, mileage):\n",
    "        self.name = name\n",
    "        self.max_speed = max_speed\n",
    "        self.mileage = mileage\n",
    "\n",
    "    def seating_capacity(self, capacity):\n",
    "        return f\"The seating capacity of {self.name} is {capacity} passengers.\"\n",
    "\n",
    "class Bus(Vehicle):\n",
    "    def __init__(self, name, max_speed, mileage):\n",
    "        Vehicle.__init__(self, name, max_speed, mileage)\n",
    "\n",
    "    def seating_capacity(self, capacity=50):\n",
    "        return Vehicle.seating_capacity(self, capacity)\n",
    "\n",
    "bus = Bus(\"Rosalia Indah\", 120, 160)\n",
    "\n",
    "print(bus.seating_capacity())\n",
    "print(f\"The max speed of {bus.name} is {bus.max_speed} km/h with a travel distance of {bus.mileage} km.\")"
   ]
  }
 ],
 "metadata": {
  "kernelspec": {
   "display_name": "Python 3",
   "language": "python",
   "name": "python3"
  },
  "language_info": {
   "codemirror_mode": {
    "name": "ipython",
    "version": 3
   },
   "file_extension": ".py",
   "mimetype": "text/x-python",
   "name": "python",
   "nbconvert_exporter": "python",
   "pygments_lexer": "ipython3",
   "version": "3.11.9"
  }
 },
 "nbformat": 4,
 "nbformat_minor": 2
}
