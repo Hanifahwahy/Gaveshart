{
 "cells": [
  {
   "cell_type": "code",
   "execution_count": 38,
   "metadata": {},
   "outputs": [],
   "source": [
    "class dog():\n",
    "    def __init__(self,name,age):\n",
    "        self.name = name\n",
    "        self.age = age\n",
    "        \n",
    "cd = dog(\"saint bernard\",30)"
   ]
  },
  {
   "cell_type": "code",
   "execution_count": 39,
   "metadata": {},
   "outputs": [
    {
     "name": "stdout",
     "output_type": "stream",
     "text": [
      "my name is hani\n",
      "my age is 17\n"
     ]
    }
   ],
   "source": [
    "class person():\n",
    "    def __init__(self,name,age):\n",
    "        self.name = name\n",
    "        self.age = age\n",
    "        \n",
    "    def introduceyourself(self):\n",
    "        print(\"my name is \" + self.name)\n",
    "        print(\"my age is \" + str(self.age))\n",
    "        \n",
    "author = person(\"hani\",17)\n",
    "author.introduceyourself()"
   ]
  },
  {
   "cell_type": "code",
   "execution_count": 40,
   "metadata": {},
   "outputs": [
    {
     "name": "stdout",
     "output_type": "stream",
     "text": [
      "my name is hani\n",
      "my age is 17\n",
      "favorite book is Percy Jackson\n",
      "favorite food is pizza\n"
     ]
    }
   ],
   "source": [
    "class person():\n",
    "    def __init__(self,name,age,book,food):\n",
    "        self.name = name\n",
    "        self.age = age\n",
    "        self.book = book\n",
    "        self.food = food\n",
    "        \n",
    "    def introduceyourself(self):\n",
    "        print(\"my name is \" + self.name)\n",
    "        print(\"my age is \" + str(self.age))\n",
    "        print(\"favorite book is \" + self.book)\n",
    "        print(\"favorite food is \" + self.food)\n",
    "        \n",
    "author = person(\"hani\",17, \"Percy Jackson\", \"pizza\")\n",
    "author.introduceyourself()"
   ]
  },
  {
   "cell_type": "code",
   "execution_count": 41,
   "metadata": {},
   "outputs": [
    {
     "name": "stdout",
     "output_type": "stream",
     "text": [
      "hany sings 'happy'\n",
      "hany is now dancing\n"
     ]
    }
   ],
   "source": [
    "class person():\n",
    "    def __init__(self,name,age):\n",
    "        self.name = name\n",
    "        self.age = age\n",
    "        \n",
    "    def sing(self, song):\n",
    "        return\"{} sings {}\".format(self.name, song)\n",
    "    \n",
    "    def dance(self):\n",
    "        return\"{} is now dancing\".format(self.name)\n",
    "    \n",
    "blu = person(\"hany\", 17)\n",
    "\n",
    "print(blu.sing(\"'happy'\"))\n",
    "print(blu.dance())"
   ]
  },
  {
   "cell_type": "code",
   "execution_count": 44,
   "metadata": {},
   "outputs": [],
   "source": [
    "class person(object):\n",
    "    \n",
    "    def __init__(self, name, idnumber):\n",
    "        self.name = name\n",
    "        self.idnumber = idnumber\n",
    "        \n",
    "    def display(self):\n",
    "        print(self.name)\n",
    "        print(self.idnumber)\n",
    "        \n",
    "    def details(self):\n",
    "        print(\"my name is{}\".format(self.name))\n",
    "        print(\"idnumber: {}\".format(self.idnumber))\n",
    "        \n",
    "class employee(person):\n",
    "    def __init__(self, name, idnumber, salary, post):\n",
    "        self.salary = salary\n",
    "        self.post = post \n",
    "        \n",
    "        person.__init__(self, name, idnumber)\n",
    "        \n",
    "    def details(self):\n",
    "        print(\"my name is {}\".format(self.name))\n",
    "        print(\"idnumber: {}\".format(self.idnumber))\n",
    "        print(\"salary: {}\".format(self.salary))\n",
    "        print(\"post: {}\".format(self.post))\n",
    "        \n"
   ]
  },
  {
   "cell_type": "code",
   "execution_count": 43,
   "metadata": {},
   "outputs": [
    {
     "name": "stdout",
     "output_type": "stream",
     "text": [
      "rahul\n",
      "2002\n",
      "my name is rahul\n",
      "idnumber: 2002\n",
      "salary: 2003\n",
      "post: tes\n"
     ]
    }
   ],
   "source": [
    "a = employee(\"rahul\", 2002, 2003, \"tes\")\n",
    "a.display()\n",
    "a.details()"
   ]
  }
 ],
 "metadata": {
  "kernelspec": {
   "display_name": "Python 3",
   "language": "python",
   "name": "python3"
  },
  "language_info": {
   "codemirror_mode": {
    "name": "ipython",
    "version": 3
   },
   "file_extension": ".py",
   "mimetype": "text/x-python",
   "name": "python",
   "nbconvert_exporter": "python",
   "pygments_lexer": "ipython3",
   "version": "3.11.9"
  }
 },
 "nbformat": 4,
 "nbformat_minor": 2
}
